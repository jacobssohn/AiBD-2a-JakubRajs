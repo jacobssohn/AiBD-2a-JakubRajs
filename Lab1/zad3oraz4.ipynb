{
 "cells": [
  {
   "cell_type": "markdown",
   "source": [
    "W poniższej komórce nastąpił import potrzebnych bibliotek."
   ],
   "metadata": {
    "collapsed": false,
    "pycharm": {
     "name": "#%% md\n"
    }
   }
  },
  {
   "cell_type": "code",
   "execution_count": null,
   "outputs": [],
   "source": [
    "import pandas as pd\n",
    "import numpy as np\n",
    "import matplotlib.pyplot as plt"
   ],
   "metadata": {
    "collapsed": false,
    "pycharm": {
     "name": "#%%\n"
    }
   }
  },
  {
   "cell_type": "markdown",
   "source": [
    "Zadanie 3\n",
    "\n",
    "Funkcja draw() służy to rysowania wykresów dla zadanego zbioru X oraz funkcji f() oraz umożliwia ustawienie tytułu.\n",
    "\n",
    "Wykresy zostały narysowane na końcu komórki."
   ],
   "metadata": {
    "collapsed": false,
    "pycharm": {
     "name": "#%% md\n"
    }
   }
  },
  {
   "cell_type": "code",
   "execution_count": null,
   "outputs": [],
   "source": [
    "def draw(x, f, title):\n",
    "    plt.plot(x, f(x), label='f(x)')\n",
    "    plt.legend()\n",
    "    plt.title(title)\n",
    "    plt.xlabel(\"Y axis\")\n",
    "    plt.ylabel(\"X axis\")\n",
    "    plt.show()\n",
    "\n",
    "# Zdefiniowanie jednolinijkowej funkcji można zrealizować przy pomocy funkcji lambda.\n",
    "\n",
    "f = lambda x: x ** 2 + 5\n",
    "\n",
    "# Wybrałem funkcję linspace, jednak równie dobrze zadziałała by funkcja arrange.\n",
    "x1 = np.linspace(-1, 1, 100)\n",
    "x2 = np.linspace(-6, 6, 100)\n",
    "x3 = np.linspace(0, 5, 100)\n",
    "\n",
    "draw(x1, f, \"X belongs to (-1, 1)\")\n",
    "draw(x2, f, \"X belongs to (-6, 6)\")\n",
    "draw(x3, f, \"X belongs to (0, 5)\")"
   ],
   "metadata": {
    "collapsed": false,
    "pycharm": {
     "name": "#%%\n"
    }
   }
  },
  {
   "cell_type": "markdown",
   "source": [
    "Zadanie 4\n",
    "\n",
    "Dane są podane na początku w listach, które następnie jako słownik są zamienione w dataframe."
   ],
   "metadata": {
    "collapsed": false,
    "pycharm": {
     "name": "#%% md\n"
    }
   }
  },
  {
   "cell_type": "code",
   "execution_count": 13,
   "outputs": [
    {
     "name": "stdout",
     "output_type": "stream",
     "text": [
      "<class 'pandas.core.frame.DataFrame'>\n",
      "RangeIndex: 6 entries, 0 to 5\n",
      "Data columns (total 4 columns):\n",
      " #   Column   Non-Null Count  Dtype \n",
      "---  ------   --------------  ----- \n",
      " 0   name     6 non-null      object\n",
      " 1   surname  6 non-null      object\n",
      " 2   age      6 non-null      int64 \n",
      " 3   sex      6 non-null      object\n",
      "dtypes: int64(1), object(3)\n",
      "memory usage: 320.0+ bytes\n"
     ]
    },
    {
     "data": {
      "text/plain": "     name   surname  age sex\n0  Janusz  Kowalski   20   M\n1   Benek   Malecki   30   M\n2  Stachu    Piątek   40   M",
      "text/html": "<div>\n<style scoped>\n    .dataframe tbody tr th:only-of-type {\n        vertical-align: middle;\n    }\n\n    .dataframe tbody tr th {\n        vertical-align: top;\n    }\n\n    .dataframe thead th {\n        text-align: right;\n    }\n</style>\n<table border=\"1\" class=\"dataframe\">\n  <thead>\n    <tr style=\"text-align: right;\">\n      <th></th>\n      <th>name</th>\n      <th>surname</th>\n      <th>age</th>\n      <th>sex</th>\n    </tr>\n  </thead>\n  <tbody>\n    <tr>\n      <th>0</th>\n      <td>Janusz</td>\n      <td>Kowalski</td>\n      <td>20</td>\n      <td>M</td>\n    </tr>\n    <tr>\n      <th>1</th>\n      <td>Benek</td>\n      <td>Malecki</td>\n      <td>30</td>\n      <td>M</td>\n    </tr>\n    <tr>\n      <th>2</th>\n      <td>Stachu</td>\n      <td>Piątek</td>\n      <td>40</td>\n      <td>M</td>\n    </tr>\n  </tbody>\n</table>\n</div>"
     },
     "execution_count": 13,
     "metadata": {},
     "output_type": "execute_result"
    }
   ],
   "source": [
    "name = ['Janusz', 'Benek', 'Stachu', 'Marcin', 'Anna', 'Katarzyna']\n",
    "surname = ['Kowalski', 'Malecki', 'Piątek', 'Giez', 'Sobota', 'Pytka']\n",
    "age = [20, 30, 40, 50, 60, 70]\n",
    "sex = ['M', 'M', 'M', 'M', 'F', 'F']\n",
    "df = pd.DataFrame(data={'name': name, 'surname': surname, 'age': age, 'sex': sex})\n",
    "df.info()\n",
    "df.describe()\n",
    "df.head(3)"
   ],
   "metadata": {
    "collapsed": false,
    "pycharm": {
     "name": "#%%\n"
    }
   }
  }
 ],
 "metadata": {
  "kernelspec": {
   "display_name": "Python 3",
   "language": "python",
   "name": "python3"
  },
  "language_info": {
   "codemirror_mode": {
    "name": "ipython",
    "version": 2
   },
   "file_extension": ".py",
   "mimetype": "text/x-python",
   "name": "python",
   "nbconvert_exporter": "python",
   "pygments_lexer": "ipython2",
   "version": "2.7.6"
  },
  "pycharm": {
   "stem_cell": {
    "cell_type": "raw",
    "source": [
     "#%\n",
     "Jakub Rajs, Laboratorium 1"
    ],
    "metadata": {
     "collapsed": false
    }
   }
  }
 },
 "nbformat": 4,
 "nbformat_minor": 0
}